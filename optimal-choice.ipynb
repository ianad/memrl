{
 "cells": [
  {
   "cell_type": "code",
   "execution_count": 2,
   "metadata": {
    "collapsed": true
   },
   "outputs": [],
   "source": [
    "import os\n",
    "import pandas as pd\n",
    "import numpy as np"
   ]
  },
  {
   "cell_type": "code",
   "execution_count": 3,
   "metadata": {
    "collapsed": true
   },
   "outputs": [],
   "source": [
    "sourcedir = os.path.join('..','sourcedata')\n",
    "outputdir = os.path.join('..','derivatives')"
   ]
  },
  {
   "cell_type": "code",
   "execution_count": 172,
   "metadata": {},
   "outputs": [],
   "source": [
    "fpath = os.path.join(sourcedir,'memrl_data.xlsx')\n",
    "data = pd.read_excel(fpath)"
   ]
  },
  {
   "cell_type": "code",
   "execution_count": 109,
   "metadata": {
    "collapsed": true
   },
   "outputs": [],
   "source": [
    "fpath = os.path.join(sourcedir,'memrl_data.xlsx')\n",
    "data = pd.read_excel(fpath)[[\n",
    "        'SubjNum','CueLeftPic','CueRightPic','CueChosen','Outcome'\n",
    "    ]]"
   ]
  },
  {
   "cell_type": "code",
   "execution_count": 173,
   "metadata": {
    "scrolled": true
   },
   "outputs": [
    {
     "data": {
      "text/html": [
       "<div>\n",
       "<style scoped>\n",
       "    .dataframe tbody tr th:only-of-type {\n",
       "        vertical-align: middle;\n",
       "    }\n",
       "\n",
       "    .dataframe tbody tr th {\n",
       "        vertical-align: top;\n",
       "    }\n",
       "\n",
       "    .dataframe thead th {\n",
       "        text-align: right;\n",
       "    }\n",
       "</style>\n",
       "<table border=\"1\" class=\"dataframe\">\n",
       "  <thead>\n",
       "    <tr style=\"text-align: right;\">\n",
       "      <th></th>\n",
       "      <th>SubjNum</th>\n",
       "      <th>AgeGroup</th>\n",
       "      <th>ExperimenterName</th>\n",
       "      <th>RunNum</th>\n",
       "      <th>Date</th>\n",
       "      <th>Time</th>\n",
       "      <th>TrialNum</th>\n",
       "      <th>DelayCond</th>\n",
       "      <th>TrialNumbyCue</th>\n",
       "      <th>CueOnLeft</th>\n",
       "      <th>...</th>\n",
       "      <th>ButtonResp</th>\n",
       "      <th>Outcome</th>\n",
       "      <th>OutcomePic</th>\n",
       "      <th>CueStart</th>\n",
       "      <th>RT</th>\n",
       "      <th>OutcomeStart</th>\n",
       "      <th>OutcomeDuration</th>\n",
       "      <th>IntertrialDuration</th>\n",
       "      <th>ChoseGoodCue?</th>\n",
       "      <th>TrialBlock</th>\n",
       "    </tr>\n",
       "  </thead>\n",
       "  <tbody>\n",
       "    <tr>\n",
       "      <th>0</th>\n",
       "      <td>101</td>\n",
       "      <td>1</td>\n",
       "      <td>nl</td>\n",
       "      <td>0</td>\n",
       "      <td>10_28</td>\n",
       "      <td>0.719317</td>\n",
       "      <td>1</td>\n",
       "      <td>1</td>\n",
       "      <td>1</td>\n",
       "      <td>1</td>\n",
       "      <td>...</td>\n",
       "      <td>1.0</td>\n",
       "      <td>1.0</td>\n",
       "      <td>indoor_(45).jpg</td>\n",
       "      <td>4.033720</td>\n",
       "      <td>0.929655</td>\n",
       "      <td>6.000884</td>\n",
       "      <td>1.506218</td>\n",
       "      <td>2.779541</td>\n",
       "      <td>0.0</td>\n",
       "      <td>1</td>\n",
       "    </tr>\n",
       "    <tr>\n",
       "      <th>1</th>\n",
       "      <td>101</td>\n",
       "      <td>1</td>\n",
       "      <td>nl</td>\n",
       "      <td>0</td>\n",
       "      <td>10_28</td>\n",
       "      <td>0.719317</td>\n",
       "      <td>2</td>\n",
       "      <td>1</td>\n",
       "      <td>2</td>\n",
       "      <td>0</td>\n",
       "      <td>...</td>\n",
       "      <td>1.0</td>\n",
       "      <td>0.0</td>\n",
       "      <td>outdoor_(81).jpg</td>\n",
       "      <td>10.286723</td>\n",
       "      <td>0.931679</td>\n",
       "      <td>12.252411</td>\n",
       "      <td>1.506221</td>\n",
       "      <td>3.537933</td>\n",
       "      <td>1.0</td>\n",
       "      <td>1</td>\n",
       "    </tr>\n",
       "    <tr>\n",
       "      <th>2</th>\n",
       "      <td>101</td>\n",
       "      <td>1</td>\n",
       "      <td>nl</td>\n",
       "      <td>0</td>\n",
       "      <td>10_28</td>\n",
       "      <td>0.719317</td>\n",
       "      <td>3</td>\n",
       "      <td>2</td>\n",
       "      <td>1</td>\n",
       "      <td>1</td>\n",
       "      <td>...</td>\n",
       "      <td>1.0</td>\n",
       "      <td>0.0</td>\n",
       "      <td>outdoor_(67).jpg</td>\n",
       "      <td>17.298038</td>\n",
       "      <td>1.295149</td>\n",
       "      <td>25.645838</td>\n",
       "      <td>1.507751</td>\n",
       "      <td>3.026509</td>\n",
       "      <td>0.0</td>\n",
       "      <td>1</td>\n",
       "    </tr>\n",
       "    <tr>\n",
       "      <th>3</th>\n",
       "      <td>101</td>\n",
       "      <td>1</td>\n",
       "      <td>nl</td>\n",
       "      <td>0</td>\n",
       "      <td>10_28</td>\n",
       "      <td>0.719317</td>\n",
       "      <td>4</td>\n",
       "      <td>1</td>\n",
       "      <td>3</td>\n",
       "      <td>1</td>\n",
       "      <td>...</td>\n",
       "      <td>6.0</td>\n",
       "      <td>1.0</td>\n",
       "      <td>indoor_(122).jpg</td>\n",
       "      <td>30.180110</td>\n",
       "      <td>1.188015</td>\n",
       "      <td>32.398769</td>\n",
       "      <td>1.502938</td>\n",
       "      <td>2.776548</td>\n",
       "      <td>1.0</td>\n",
       "      <td>1</td>\n",
       "    </tr>\n",
       "    <tr>\n",
       "      <th>4</th>\n",
       "      <td>101</td>\n",
       "      <td>1</td>\n",
       "      <td>nl</td>\n",
       "      <td>0</td>\n",
       "      <td>10_28</td>\n",
       "      <td>0.719317</td>\n",
       "      <td>5</td>\n",
       "      <td>1</td>\n",
       "      <td>4</td>\n",
       "      <td>1</td>\n",
       "      <td>...</td>\n",
       "      <td>6.0</td>\n",
       "      <td>0.0</td>\n",
       "      <td>outdoor_(270).jpg</td>\n",
       "      <td>36.678267</td>\n",
       "      <td>1.085774</td>\n",
       "      <td>38.815834</td>\n",
       "      <td>1.505155</td>\n",
       "      <td>2.776437</td>\n",
       "      <td>1.0</td>\n",
       "      <td>1</td>\n",
       "    </tr>\n",
       "  </tbody>\n",
       "</table>\n",
       "<p>5 rows × 24 columns</p>\n",
       "</div>"
      ],
      "text/plain": [
       "   SubjNum  AgeGroup ExperimenterName  RunNum   Date      Time  TrialNum  \\\n",
       "0      101         1               nl       0  10_28  0.719317         1   \n",
       "1      101         1               nl       0  10_28  0.719317         2   \n",
       "2      101         1               nl       0  10_28  0.719317         3   \n",
       "3      101         1               nl       0  10_28  0.719317         4   \n",
       "4      101         1               nl       0  10_28  0.719317         5   \n",
       "\n",
       "   DelayCond  TrialNumbyCue  CueOnLeft     ...      ButtonResp Outcome  \\\n",
       "0          1              1          1     ...             1.0     1.0   \n",
       "1          1              2          0     ...             1.0     0.0   \n",
       "2          2              1          1     ...             1.0     0.0   \n",
       "3          1              3          1     ...             6.0     1.0   \n",
       "4          1              4          1     ...             6.0     0.0   \n",
       "\n",
       "          OutcomePic   CueStart        RT  OutcomeStart OutcomeDuration  \\\n",
       "0    indoor_(45).jpg   4.033720  0.929655      6.000884        1.506218   \n",
       "1   outdoor_(81).jpg  10.286723  0.931679     12.252411        1.506221   \n",
       "2   outdoor_(67).jpg  17.298038  1.295149     25.645838        1.507751   \n",
       "3   indoor_(122).jpg  30.180110  1.188015     32.398769        1.502938   \n",
       "4  outdoor_(270).jpg  36.678267  1.085774     38.815834        1.505155   \n",
       "\n",
       "   IntertrialDuration  ChoseGoodCue?  TrialBlock  \n",
       "0            2.779541            0.0           1  \n",
       "1            3.537933            1.0           1  \n",
       "2            3.026509            0.0           1  \n",
       "3            2.776548            1.0           1  \n",
       "4            2.776437            1.0           1  \n",
       "\n",
       "[5 rows x 24 columns]"
      ]
     },
     "execution_count": 173,
     "metadata": {},
     "output_type": "execute_result"
    }
   ],
   "source": [
    "data.head()"
   ]
  },
  {
   "cell_type": "code",
   "execution_count": 174,
   "metadata": {},
   "outputs": [
    {
     "name": "stderr",
     "output_type": "stream",
     "text": [
      "C:\\Users\\ia406477\\AppData\\Local\\Continuum\\anaconda2\\lib\\site-packages\\ipykernel_launcher.py:6: UserWarning: Boolean Series key will be reindexed to match DataFrame index.\n",
      "  \n"
     ]
    }
   ],
   "source": [
    "def choice_positive_outcomes(row):\n",
    "    ssid,index,lcue,rcue,choice,outcome = (row['SubjNum'], row.name,\n",
    "                                           row['CueLeftPic'], row['CueRightPic'],\n",
    "                                           row['CueChosen'], row['Outcome'])\n",
    "    choice_outcomes = data.take(np.arange(index))[\n",
    "        data['SubjNum'] == ssid][data['CueChosen'] == choice\n",
    "    ]['Outcome']\n",
    "    positive_outcomes = choice_outcomes.sum()\n",
    "    return(positive_outcomes)\n",
    "\n",
    "data['choicerewards'] = data.apply(choice_positive_outcomes,axis=1)\n"
   ]
  },
  {
   "cell_type": "code",
   "execution_count": 175,
   "metadata": {},
   "outputs": [
    {
     "name": "stderr",
     "output_type": "stream",
     "text": [
      "C:\\Users\\ia406477\\AppData\\Local\\Continuum\\anaconda2\\lib\\site-packages\\ipykernel_launcher.py:6: UserWarning: Boolean Series key will be reindexed to match DataFrame index.\n",
      "  \n"
     ]
    }
   ],
   "source": [
    "def choice_total_outcomes(row):\n",
    "    ssid,index,lcue,rcue,choice,outcome = (row['SubjNum'], row.name,\n",
    "                                           row['CueLeftPic'], row['CueRightPic'],\n",
    "                                           row['CueChosen'], row['Outcome'])\n",
    "    choice_outcomes = data.take(np.arange(index))[\n",
    "        data['SubjNum'] == ssid][data['CueChosen'] == choice\n",
    "    ]['Outcome']\n",
    "    total_outcomes = choice_outcomes.count()\n",
    "    return(total_outcomes)\n",
    "\n",
    "data['choicetotal'] = data.apply(choice_total_outcomes,axis=1)"
   ]
  },
  {
   "cell_type": "code",
   "execution_count": 176,
   "metadata": {},
   "outputs": [],
   "source": [
    "data['choicefreq'] = data['choicerewards'] / data['choicetotal']"
   ]
  },
  {
   "cell_type": "code",
   "execution_count": 177,
   "metadata": {},
   "outputs": [
    {
     "name": "stderr",
     "output_type": "stream",
     "text": [
      "C:\\Users\\ia406477\\AppData\\Local\\Continuum\\anaconda2\\lib\\site-packages\\ipykernel_launcher.py:7: UserWarning: Boolean Series key will be reindexed to match DataFrame index.\n",
      "  import sys\n"
     ]
    }
   ],
   "source": [
    "def altcue_positive_outcomes(row):\n",
    "    ssid,index,lcue,rcue,choice,outcome = (row['SubjNum'], row.name,\n",
    "                                           row['CueLeftPic'], row['CueRightPic'],\n",
    "                                           row['CueChosen'], row['Outcome'])\n",
    "    altcue = [x for x in [lcue,rcue] if choice != x][0]\n",
    "    altcue_outcomes = data.take(np.arange(index))[\n",
    "        data['SubjNum'] == ssid][data['CueChosen'] == altcue\n",
    "    ]['Outcome']\n",
    "    positive_outcomes = altcue_outcomes.sum()\n",
    "    return(positive_outcomes)\n",
    "\n",
    "data['altcuerewards'] = data.apply(altcue_positive_outcomes,axis=1)"
   ]
  },
  {
   "cell_type": "code",
   "execution_count": 178,
   "metadata": {},
   "outputs": [
    {
     "name": "stderr",
     "output_type": "stream",
     "text": [
      "C:\\Users\\ia406477\\AppData\\Local\\Continuum\\anaconda2\\lib\\site-packages\\ipykernel_launcher.py:7: UserWarning: Boolean Series key will be reindexed to match DataFrame index.\n",
      "  import sys\n"
     ]
    }
   ],
   "source": [
    "def altcue_total_outcomes(row):\n",
    "    ssid,index,lcue,rcue,choice,outcome = (row['SubjNum'], row.name,\n",
    "                                           row['CueLeftPic'], row['CueRightPic'],\n",
    "                                           row['CueChosen'], row['Outcome'])\n",
    "    altcue = [x for x in [lcue,rcue] if choice != x][0]\n",
    "    altcue_outcomes = data.take(np.arange(index))[\n",
    "        data['SubjNum'] == ssid][data['CueChosen'] == altcue\n",
    "    ]['Outcome']\n",
    "    total_outcomes = altcue_outcomes.count()\n",
    "    return(total_outcomes)\n",
    "\n",
    "data['altcuetotal'] = data.apply(altcue_total_outcomes,axis=1)"
   ]
  },
  {
   "cell_type": "code",
   "execution_count": 179,
   "metadata": {
    "collapsed": true
   },
   "outputs": [],
   "source": [
    "data['altcuefreq'] = data['altcuerewards'] / data['altcuetotal']"
   ]
  },
  {
   "cell_type": "code",
   "execution_count": 180,
   "metadata": {},
   "outputs": [],
   "source": [
    "def compare_frequencies(row):\n",
    "    choicefreq,altfreq = (row['choicefreq'],row['altcuefreq'])\n",
    "    if choicefreq > altfreq: return 1\n",
    "    elif choicefreq < altfreq: return 0 \n",
    "    else: return 99\n",
    "\n",
    "data['ChoiceOptimal'] = data.apply(compare_frequencies,axis=1)"
   ]
  },
  {
   "cell_type": "code",
   "execution_count": 189,
   "metadata": {},
   "outputs": [],
   "source": [
    "fpath = os.path.join(outputdir,'memrl_data.csv')\n",
    "data.to_csv(fpath,index=0)"
   ]
  }
 ],
 "metadata": {
  "anaconda-cloud": {},
  "kernelspec": {
   "display_name": "Python 2",
   "language": "python",
   "name": "python2"
  },
  "language_info": {
   "codemirror_mode": {
    "name": "ipython",
    "version": 2
   },
   "file_extension": ".py",
   "mimetype": "text/x-python",
   "name": "python",
   "nbconvert_exporter": "python",
   "pygments_lexer": "ipython2",
   "version": "2.7.14"
  }
 },
 "nbformat": 4,
 "nbformat_minor": 2
}
